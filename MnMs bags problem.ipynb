{
 "cells": [
  {
   "cell_type": "code",
   "execution_count": 5,
   "id": "4dc7e997",
   "metadata": {},
   "outputs": [
    {
     "name": "stdout",
     "output_type": "stream",
     "text": [
      "0.5882352941176471\n",
      "0.3333333333333333\n",
      "\n",
      " 0.7407407407407407\n"
     ]
    }
   ],
   "source": [
    "import numpy\n",
    "\n",
    "number_bags = 2\n",
    "year = 1994\n",
    "colour_1 = 'yellow'\n",
    "colour_2 = 'green'\n",
    "\n",
    "def p_bag (number_bags):\n",
    "    p_number_bags = 1 / number_bags\n",
    "    return p_number_bags\n",
    "\n",
    "def p_colour_bag (year, colour):\n",
    "    if year < 1995:\n",
    "        return {'brown': 0.3, 'yellow': 0.2, 'red': 0.2, 'green': 0.1, 'orange': 0.1, 'tan': 0.1}.get(colour)\n",
    "    return {'blue': 0.24, 'green': 0.2, 'orange': 0.16, 'yellow': 0.14, 'red': 0.13, 'brown': 0.13}.get(colour)\n",
    "\n",
    "def p_colour_other_bag (year, colour):\n",
    "    if year < 1995:\n",
    "        return {'blue': 0.24, 'green': 0.2, 'orange': 0.16, 'yellow': 0.14, 'red': 0.13, 'brown': 0.13}.get(colour)\n",
    "    return {'brown': 0.3, 'yellow': 0.2, 'red': 0.2, 'green': 0.1, 'orange': 0.1, 'tan': 0.1}.get(colour)\n",
    "\n",
    "def m_and_m(year, colour, number_bags):\n",
    "    p_colour = p_colour_bag (year, colour) * p_bag (number_bags) + p_colour_other_bag (year, colour) * p_bag (number_bags)\n",
    "    return p_colour\n",
    "\n",
    "def m_and_m_bag (year, colour, number_bags):\n",
    "    p_hypothesis = p_colour_bag (year, colour) * p_bag (number_bags) / m_and_m (year, colour, number_bags)\n",
    "    return p_hypothesis\n",
    "\n",
    "def m_and_m_other_bag (year, colour, number_bags):\n",
    "    p_other_hypothesis = p_colour_other_bag (year, colour) * p_bag (number_bags) / m_and_m (year, colour, number_bags)\n",
    "    return p_other_hypothesis\n",
    "\n",
    "for colour in (colour_1, colour_2):\n",
    "    print (m_and_m_bag (year, colour, number_bags))\n",
    "\n",
    "p_h = m_and_m_bag (year, colour_1, number_bags) * m_and_m_other_bag (year, colour_2, number_bags) / (m_and_m_other_bag (year, colour_2, number_bags) * m_and_m_bag (year, colour_1, number_bags) + m_and_m_other_bag (year, colour_1, number_bags) * m_and_m_bag (year, colour_2, number_bags))\n",
    "\n",
    "print ('\\n', p_h)"
   ]
  },
  {
   "cell_type": "code",
   "execution_count": 6,
   "id": "79621787",
   "metadata": {},
   "outputs": [
    {
     "name": "stdout",
     "output_type": "stream",
     "text": [
      "0.2888888888888889\n"
     ]
    }
   ],
   "source": [
    "p_bag = {\n",
    "    'old': {\n",
    "        'brown': 0.3,\n",
    "        'yellow': 0.2,\n",
    "        'red': 0.2,\n",
    "        'green': 0.1,\n",
    "        'orange': 0.1,\n",
    "        'tan': 0.1\n",
    "    },\n",
    "    'new': {\n",
    "        'blue': 0.24,\n",
    "        'green': 0.2,\n",
    "        'orange': 0.16,\n",
    "        'yellow': 0.14,\n",
    "        'red': 0.13,\n",
    "        'brown': 0.13\n",
    "    }\n",
    "}\n",
    "\n",
    "def p(color, bag='new'):\n",
    "    return p_bag.get(bag).get(color)\n",
    "\n",
    "print(p('orange', 'old') * p('red') / (p('orange', 'old') * p('red') + p('orange') * p('red', 'old')))"
   ]
  },
  {
   "cell_type": "code",
   "execution_count": 7,
   "id": "84f2156c",
   "metadata": {},
   "outputs": [
    {
     "data": {
      "text/plain": [
       "0"
      ]
     },
     "execution_count": 7,
     "metadata": {},
     "output_type": "execute_result"
    }
   ],
   "source": [
    "from fractions import Fraction\n",
    "\n",
    "is_predicate = callable\n",
    "\n",
    "def P(event, space):\n",
    "   \n",
    "    if is_predicate(event):\n",
    "        event = such_that(event, space)\n",
    "    if isinstance(space, ProbDist):\n",
    "        return sum(space[o] for o in space if o in event)\n",
    "    else:\n",
    "        return Fraction(len(event & space), len(space))\n",
    "    \n",
    "def such_that(predicate, space): \n",
    "   \n",
    "    if isinstance(space, ProbDist):\n",
    "        return ProbDist({o:space[o] for o in space if predicate(o)})\n",
    "    else:\n",
    "        return {o for o in space if predicate(o)}\n",
    "\n",
    "class ProbDist(dict):\n",
    "    def __init__(self, mapping=(), **kwargs):\n",
    "        self.update(mapping, **kwargs)\n",
    "        total = sum(self.values())\n",
    "        for outcome in self:\n",
    "            self[outcome] = self[outcome] / total\n",
    "            assert self[outcome] >= 0\n",
    "        \n",
    "bag94 = ProbDist(brown=30, yellow=20, red=20, green=10, orange=10, tan=10)\n",
    "bag96 = ProbDist(blue=24, green=20, orange=16, yellow=14, red=13, brown=13)\n",
    "\n",
    "def joint(A, B, sep=''):\n",
    "    return ProbDist({a + sep + b: A[a] * B[b]\n",
    "                    for a in A\n",
    "                    for b in B})\n",
    "\n",
    "two_MM = joint(bag94, bag96, ' - ')\n",
    "\n",
    "def tan_and_red (outcome): return 'tan' in outcome and 'red' in outcome\n",
    "\n",
    "def red94(outcome): return outcome.startswith('red')\n",
    "\n",
    "P(red94, such_that(tan_and_red, two_MM))\n",
    "\n",
    "# Because there are no tan M&M in bags after 1996."
   ]
  }
 ],
 "metadata": {
  "kernelspec": {
   "display_name": "Python 3 (ipykernel)",
   "language": "python",
   "name": "python3"
  },
  "language_info": {
   "codemirror_mode": {
    "name": "ipython",
    "version": 3
   },
   "file_extension": ".py",
   "mimetype": "text/x-python",
   "name": "python",
   "nbconvert_exporter": "python",
   "pygments_lexer": "ipython3",
   "version": "3.9.12"
  }
 },
 "nbformat": 4,
 "nbformat_minor": 5
}
